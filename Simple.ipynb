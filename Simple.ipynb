{
 "cells": [
  {
   "cell_type": "code",
   "execution_count": 1,
   "id": "dbdfe0b3-f1a3-41b8-bc82-1707a59a9812",
   "metadata": {},
   "outputs": [],
   "source": [
    "import pyomo.environ as pyo\n",
    "from pyomo.opt import SolverFactory"
   ]
  },
  {
   "cell_type": "markdown",
   "id": "331f0abd-f10d-419e-acf8-06da737e7944",
   "metadata": {},
   "source": [
    "# A simple case.\n",
    "\n",
    "Consider a simple case with 3 astronauts. Each astronaut can process folate at baseline, above baseline, and below baseline levels.\n",
    "Consider two possible foods to send to ISS, an apple and a banana. Each has an amount of folate per unit.\n",
    "\n",
    "Our goal is to compute the *optimum* amount of each food to bring for the entire mission: x."
   ]
  },
  {
   "cell_type": "code",
   "execution_count": 2,
   "id": "dc0f33fc-3465-4b3b-ac7e-5822eaa2a122",
   "metadata": {},
   "outputs": [],
   "source": [
    "astro_simple = [1.0, 1.5, 0.5]\n",
    "\n",
    "APPLE  = 0;\n",
    "BANANA = 1;\n",
    "\n",
    "foods_simple = [0.001, .05]\n",
    "\n",
    "x = [x for x in range(0, len(astro_simple) * len(foods_simple))]"
   ]
  },
  {
   "cell_type": "code",
   "execution_count": 3,
   "id": "ceffab61-f9c0-43a8-8c35-2a06fe10f51e",
   "metadata": {},
   "outputs": [],
   "source": [
    "# We consruct a pyomo optimization model to find the optimal basket of goods to take to space that minimizes the total amount of units\n",
    "# taken.\n",
    "\n",
    "model = pyo.ConcreteModel()\n",
    "model.x = pyo.Var(x, domain=pyo.NonNegativeReals)\n",
    "model.OBJ = pyo.Objective(expr = sum(model.x))"
   ]
  },
  {
   "cell_type": "markdown",
   "id": "fc8340bb-9318-42bd-a5b3-81f3b1d80d1e",
   "metadata": {},
   "source": [
    "There's constraints however; each astronaut needs at least 5 units of folate to survive."
   ]
  },
  {
   "cell_type": "code",
   "execution_count": 4,
   "id": "9c9ad2ca-5d35-4982-b47b-5b615f449e10",
   "metadata": {},
   "outputs": [],
   "source": [
    "# An astronauts total folate processed is their innate metabolism * (# of apples * apple folate + # of bananas * banana folate).\n",
    "model.Constraint1 = pyo.Constraint(expr = astro_simple[0] * (model.x[0] * foods_simple[0] + model.x[1] * foods_simple[1]) >= 5)\n",
    "model.Constraint2 = pyo.Constraint(expr = astro_simple[1] * (model.x[2] * foods_simple[0] + model.x[3] * foods_simple[1]) >= 5)\n",
    "model.Constraint3 = pyo.Constraint(expr = astro_simple[2] * (model.x[4] * foods_simple[0] + model.x[5] * foods_simple[1]) >= 5)"
   ]
  },
  {
   "cell_type": "markdown",
   "id": "a621103f-de6e-4e9f-a457-ff7ce3b7e228",
   "metadata": {},
   "source": [
    "We can then find a solution that produces the minimum amount of foods we need to take to satisfy our constraint."
   ]
  },
  {
   "cell_type": "code",
   "execution_count": 5,
   "id": "c08257c2-fada-4bea-9e49-fa7fa257ab3e",
   "metadata": {},
   "outputs": [
    {
     "name": "stdout",
     "output_type": "stream",
     "text": [
      "ASTRO_1 APPLES: 5000.0, ASTRO_1 BANANAS: 0.0, ASTRO_2 APPLES: 3333.33333333333, ASTRO_2 BANANAS: 0.0, ASTRO_3 APPLES: 10000.0, ASTRO_3 BANANAS: 0.0\n"
     ]
    }
   ],
   "source": [
    "opt = SolverFactory(\"glpk\")\n",
    "result = opt.solve(model)\n",
    "\n",
    "print(\"ASTRO_1 APPLES: {}, ASTRO_1 BANANAS: {}, ASTRO_2 APPLES: {}, ASTRO_2 BANANAS: {}, ASTRO_3 APPLES: {}, ASTRO_3 BANANAS: {}\"\n",
    "      .format(model.x[0].value, model.x[1].value, model.x[2].value, model.x[3].value, model.x[4].value, model.x[5].value))"
   ]
  },
  {
   "cell_type": "markdown",
   "id": "5e5afa69-c385-4820-b189-fd6831a42ed5",
   "metadata": {},
   "source": [
    "This isn't too helpful, it just says we should send all apples; we can add more constraints to make this more lifelike."
   ]
  },
  {
   "cell_type": "code",
   "execution_count": 6,
   "id": "1cf897fb-17dd-4d97-bf7d-abf902c3c8ac",
   "metadata": {},
   "outputs": [],
   "source": [
    "# We can only send 10000 apples in total.\n",
    "model.Constraint4 = pyo.Constraint(expr = model.x[0] + model.x[2] <= 10000)\n",
    "# And Astronaut 2 is only willing to eat 100 bananas!\n",
    "model.Constraint5 = pyo.Constraint(expr = model.x[3] <= 100)"
   ]
  },
  {
   "cell_type": "code",
   "execution_count": 7,
   "id": "77937ccd-d53f-4fec-bf3f-27620c15e3df",
   "metadata": {},
   "outputs": [
    {
     "name": "stdout",
     "output_type": "stream",
     "text": [
      "ASTRO_1 APPLES: 0.0, ASTRO_1 BANANAS: 100.0, ASTRO_2 APPLES: 0.0, ASTRO_2 BANANAS: 66.6666666666667, ASTRO_3 APPLES: 10000.0, ASTRO_3 BANANAS: 0.0\n"
     ]
    }
   ],
   "source": [
    "# Solve again.\n",
    "\n",
    "opt = SolverFactory(\"glpk\")\n",
    "result = opt.solve(model)\n",
    "\n",
    "print(\"ASTRO_1 APPLES: {}, ASTRO_1 BANANAS: {}, ASTRO_2 APPLES: {}, ASTRO_2 BANANAS: {}, ASTRO_3 APPLES: {}, ASTRO_3 BANANAS: {}\"\n",
    "      .format(model.x[0].value, model.x[1].value, model.x[2].value, model.x[3].value, model.x[4].value, model.x[5].value))"
   ]
  },
  {
   "cell_type": "markdown",
   "id": "3ff8d9e7-2a00-4580-b917-0355f041398c",
   "metadata": {},
   "source": [
    "You can see how this changes the solution. This simple system are the beginning steps toward a much more powerful program."
   ]
  },
  {
   "cell_type": "code",
   "execution_count": null,
   "id": "d9d90007-c1ac-4f73-a38b-1f0788249994",
   "metadata": {},
   "outputs": [],
   "source": []
  }
 ],
 "metadata": {
  "kernelspec": {
   "display_name": "Python 3 (ipykernel)",
   "language": "python",
   "name": "python3"
  },
  "language_info": {
   "codemirror_mode": {
    "name": "ipython",
    "version": 3
   },
   "file_extension": ".py",
   "mimetype": "text/x-python",
   "name": "python",
   "nbconvert_exporter": "python",
   "pygments_lexer": "ipython3",
   "version": "3.10.12"
  }
 },
 "nbformat": 4,
 "nbformat_minor": 5
}
