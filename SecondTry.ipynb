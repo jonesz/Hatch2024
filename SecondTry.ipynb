{
 "cells": [
  {
   "cell_type": "markdown",
   "id": "34a44ea9-b587-4fd8-a4bc-f008ad9e4b46",
   "metadata": {},
   "source": [
    "# Optimization of a Basket of Goods.\n",
    "\n",
    "Say we have 10 foods, listed below, and we know the average amount of FOLATE, BETA-CAROTENE, and ASCORBIC ACID (each of these build vital nutrients) they contain per 100mg."
   ]
  },
  {
   "cell_type": "code",
   "execution_count": 1,
   "id": "10cc9097-fae2-4fe4-9471-cac6949cbfcf",
   "metadata": {},
   "outputs": [],
   "source": [
    "#[[FOLATE, BETA-CAROTENE, ASCORBIC ACID]]\n",
    "foods = [\n",
    "    [0.06445, 0.91988, 35.580], # Apple\n",
    "    [8.403, 461.750, 30.000],   # Swiss Chard\n",
    "    [19.062, 0.023, 33.464],    # Cauliflower\n",
    "    [15.245, 1.191, 13.125],    # Turnip\n",
    "    [0.00800, 0.42, 27.000],    # Persimmon\n",
    "    [0.20340, 0.08350, 28.067], # Cranberry\n",
    "    [0.02813, 14.477, 7.345],   # Carrot\n",
    "    [91.960, 4.307, 1.655],     # Chickpea\n",
    "    [67.023, 2.257, 5.990],     # Lentils\n",
    "    [6.5, 3.725, 136.033],      # Onion\n",
    "]"
   ]
  },
  {
   "cell_type": "markdown",
   "id": "252e4f56-dc15-4b88-aa1a-87dea006e849",
   "metadata": {},
   "source": [
    "We have five astronauts, and based upon their gene expressions, they are either deficient or proficient in proccessing the above three compounds."
   ]
  },
  {
   "cell_type": "code",
   "execution_count": 1,
   "id": "1fd81bfe-a858-47d8-a35e-095672974ae5",
   "metadata": {},
   "outputs": [],
   "source": [
    "DEFICIENT  = .75\n",
    "PROFICIENT = 1.0\n",
    "\n",
    "astronaut_1 = [DEFICIENT, PROFICIENT, PROFICIENT]\n",
    "astronaut_2 = [PROFICIENT, DEFICIENT, DEFICIENT]\n",
    "astronaut_3 = [PROFICIENT, DEFICIENT, PROFICIENT]\n",
    "astronaut_4 = [DEFICIENT, PROFICIENT, DEFICIENT]\n",
    "astronaut_5 = [PROFICIENT, PROFICIENT, PROFICIENT]\n",
    "\n",
    "astronauts = astronaut_1 + astronaut_2 + astronaut_3 + astronaut_4 + astronaut_5"
   ]
  },
  {
   "cell_type": "code",
   "execution_count": 3,
   "id": "a91e20bb-ae59-4e18-bc46-bf28e9717b70",
   "metadata": {},
   "outputs": [],
   "source": [
    "import pyomo.environ as pyo\n",
    "from pyomo.opt import SolverFactory\n",
    "import pandas as pd"
   ]
  },
  {
   "cell_type": "markdown",
   "id": "35951434-3f5f-4d01-825f-ea851b443e8b",
   "metadata": {},
   "source": [
    "Our question thus becomes how much of each food do we need to send to space to satisfy each of these astronauts dietary needs.\n",
    "Each astronaut can be allotted some number of each food; this totals to 50 different amounts of food (`5 astronauts * len(foods))."
   ]
  },
  {
   "cell_type": "code",
   "execution_count": 4,
   "id": "6f7e940a-4c45-42e8-8367-5ea565b6d754",
   "metadata": {},
   "outputs": [],
   "source": [
    "model = pyo.ConcreteModel()\n",
    "model.x = pyo.Var([x for x in range(0, 5 * len(foods))], domain=pyo.NonNegativeReals)"
   ]
  },
  {
   "cell_type": "markdown",
   "id": "e31788ef-b3b8-43cf-9341-42ff03ddc0a7",
   "metadata": {},
   "source": [
    "We want to minimize the amount of food spent to space."
   ]
  },
  {
   "cell_type": "code",
   "execution_count": 5,
   "id": "ec5428ca-f883-470d-a5a8-43b8a3044dfa",
   "metadata": {},
   "outputs": [],
   "source": [
    "model.OBJ = pyo.Objective(expr = pyo.summation(model.x))"
   ]
  },
  {
   "cell_type": "markdown",
   "id": "a7c71929-a5fb-4484-8a69-e80c31ab673a",
   "metadata": {},
   "source": [
    "Each astronaut has a constraint: the sum of the foods they eat must be larger than their daily dietary needed taking into account their genetic profile that influences their metabolism."
   ]
  },
  {
   "cell_type": "code",
   "execution_count": 6,
   "id": "a378c638-32bb-4b7b-becb-c97d9c8f2d68",
   "metadata": {},
   "outputs": [],
   "source": [
    "model.C = pyo.ConstraintList()\n",
    "\n",
    "def add_constraint_dv(a_idx, v_idx, dv):\n",
    "    \"\"\" Add a constraint that for astronaut a_idx, they must receive\n",
    "    dv of the v_idx of each food. \"\"\"\n",
    "    \n",
    "    lb = a_idx * len(foods)\n",
    "    ub = lb + 10\n",
    "    \n",
    "    s = 0\n",
    "    # x_subset = model.x[lb:ub] # I can't slice this apparently, FML.\n",
    "    #for (x_j, f_j) in zip(x_subset, foods):\n",
    "    #    s += x_j * f_j[v_idx]\n",
    "    s += model.x[lb]     * foods[0][v_idx] + model.x[lb + 1] * foods[1][v_idx] + model.x[lb + 2] * foods[2][v_idx] \n",
    "    s += model.x[lb + 3] * foods[3][v_idx] + model.x[lb + 4] * foods[4][v_idx] + model.x[lb + 5] * foods[5][v_idx]\n",
    "    s += model.x[lb + 6] * foods[6][v_idx] + model.x[lb + 7] * foods[7][v_idx] + model.x[lb + 8] * foods[8][v_idx]\n",
    "    s += model.x[lb + 9] * foods[9][v_idx]\n",
    "    \n",
    "    model.C.add(expr = astronauts[a_idx] * s >= dv)"
   ]
  },
  {
   "cell_type": "code",
   "execution_count": 7,
   "id": "837c342d-02f8-49c3-ad20-fc84ced6bb82",
   "metadata": {},
   "outputs": [],
   "source": [
    "for i in range(0, 5):\n",
    "    add_constraint_dv(i, 0, 400) # Each astronauts DV for folate.\n",
    "    add_constraint_dv(i, 1, 300) # Each astronauts DV for Beta-Carotene\n",
    "    add_constraint_dv(i, 2, 90)  # Each astronauts DV for Ascorbic Acid"
   ]
  },
  {
   "cell_type": "markdown",
   "id": "c70df778-cdf4-4fec-acde-87a7b51c6f10",
   "metadata": {},
   "source": [
    "We can solve this linear programming problem and print out a solution that minimizes the total amount of food needed while satisfying the dietary requirement. Each basket (x0 -> x9, x11 -> x20, etc.) corresponds to the allotted amount of those 10 foods for each astronaut."
   ]
  },
  {
   "cell_type": "code",
   "execution_count": 8,
   "id": "5e4569ba-dc86-4666-a2f0-c9a30920ba85",
   "metadata": {},
   "outputs": [],
   "source": [
    "def print_solution(model):\n",
    "    # TODO: HACK\n",
    "    outer = []\n",
    "    for i in range(0, 5):\n",
    "        inner = []\n",
    "        for j in range(0, 10):\n",
    "            inner.append(model.x[i * 10 + j].value)\n",
    "        outer.append(inner)\n",
    "\n",
    "    df = pd.DataFrame(outer, columns=[\"F1\", \"F2\", \"F3\", \"F4\", \"F5\", \"F6\", \"F7\", \"F8\", \"F9\", \"F10\"])\n",
    "    df.insert(0, \"Name\", [\"Astro1\", \"Astro2\", \"Astro3\", \"Astro4\", \"Astro5\"])\n",
    "\n",
    "    print(df)\n",
    "            \n",
    "    #for i in range(0, 5 * len(foods)):\n",
    "    #    print(\"x{}: {}\".format(i, model.x[i].value))"
   ]
  },
  {
   "cell_type": "code",
   "execution_count": 9,
   "id": "8f647b21-0546-47c9-99b8-14cae827b224",
   "metadata": {},
   "outputs": [
    {
     "name": "stdout",
     "output_type": "stream",
     "text": [
      "     Name   F1       F2   F3   F4   F5   F6   F7        F8   F9       F10\n",
      "0  Astro1  0.0  0.80816  0.0  0.0  0.0  0.0  0.0  5.680907  0.0  0.634797\n",
      "1  Astro2  0.0  0.60612  0.0  0.0  0.0  0.0  0.0  4.260680  0.0  0.476098\n",
      "2  Astro3  0.0  0.60612  0.0  0.0  0.0  0.0  0.0  4.260680  0.0  0.476098\n",
      "3  Astro4  0.0  0.60612  0.0  0.0  0.0  0.0  0.0  4.260680  0.0  0.476098\n",
      "4  Astro5  0.0  0.80816  0.0  0.0  0.0  0.0  0.0  5.680907  0.0  0.634797\n"
     ]
    }
   ],
   "source": [
    "opt = SolverFactory(\"glpk\")\n",
    "result = opt.solve(model)\n",
    "\n",
    "# for i in range(0, 5 * len(foods)):\n",
    "#    print(\"x{}: {}\".format(i, model.x[i].value))\n",
    "\n",
    "print_solution(model)"
   ]
  },
  {
   "cell_type": "markdown",
   "id": "96348998-43cb-44e5-a898-8475470f0366",
   "metadata": {},
   "source": [
    "We can add other constraints however; say the last astronaut won't eat onion (x49). As you can see, solving for this constraint produces\n",
    "a different x49 value than the previous solution (0.6347... vs 0.0)."
   ]
  },
  {
   "cell_type": "code",
   "execution_count": 10,
   "id": "6babe4bd-0d89-4819-bdfe-d148ae1dc729",
   "metadata": {},
   "outputs": [
    {
     "name": "stdout",
     "output_type": "stream",
     "text": [
      "0.0\n"
     ]
    }
   ],
   "source": [
    "model.C.add(expr = model.x[49] == 0.0)\n",
    "result = opt.solve(model)\n",
    "\n",
    "print(model.x[49].value)"
   ]
  },
  {
   "cell_type": "markdown",
   "id": "78b8a8c1-7ce7-4749-ad8a-f24a645ee890",
   "metadata": {},
   "source": [
    "Another constraint might be that the total number of apples (x0, x10, ...) sent for the astronauts as a whole has to be larger than 3. Again, solving for this constraint produces a different solution."
   ]
  },
  {
   "cell_type": "code",
   "execution_count": 11,
   "id": "821781c6-f163-49b0-9260-79ce796a061d",
   "metadata": {},
   "outputs": [
    {
     "name": "stdout",
     "output_type": "stream",
     "text": [
      "     Name        F1        F2   F3   F4   F5   F6   F7        F8   F9  \\\n",
      "0  Astro1  0.574895  0.808133  0.0  0.0  0.0  0.0  0.0  5.691143  0.0   \n",
      "1  Astro2  0.000000  0.606120  0.0  0.0  0.0  0.0  0.0  4.260680  0.0   \n",
      "2  Astro3  0.000000  0.606120  0.0  0.0  0.0  0.0  0.0  4.260680  0.0   \n",
      "3  Astro4  0.000000  0.606120  0.0  0.0  0.0  0.0  0.0  4.260680  0.0   \n",
      "4  Astro5  2.425105  0.808047  0.0  0.0  0.0  0.0  0.0  5.724087  0.0   \n",
      "\n",
      "        F10  \n",
      "0  0.484312  \n",
      "1  0.476098  \n",
      "2  0.476098  \n",
      "3  0.476098  \n",
      "4  0.000000  \n"
     ]
    }
   ],
   "source": [
    "model.C.add(expr = model.x[0] + model.x[10] + model.x[20] + model.x[30] + model.x[40] >= 3)\n",
    "result = opt.solve(model)\n",
    "\n",
    "print_solution(model)\n",
    "\n",
    "#for i in range(0, 5 * len(foods)):\n",
    "#    print(\"x{}: {}\".format(i, model.x[i].value))"
   ]
  },
  {
   "cell_type": "markdown",
   "id": "d718cb1d-3158-4668-9e16-e3674f02b102",
   "metadata": {},
   "source": [
    "These are simply silly linear constaints but they off a powerful platform; one can build constraints and models that take into account price, weight, area used, specific tastes, etc. More complicated models might take into account half-life decay of nutrients over a period of time, or add random variables to simulate spoilage (solved through robust optimization!). Another point to consider is that these are real values; what is .03320301934 apples? Further work could be done to discretize the optimization."
   ]
  },
  {
   "cell_type": "code",
   "execution_count": 12,
   "id": "ca63f9a0-e85c-486a-9f00-89af48411298",
   "metadata": {},
   "outputs": [
    {
     "name": "stdout",
     "output_type": "stream",
     "text": [
      "0.808132865224022\n"
     ]
    }
   ],
   "source": [
    "print(model.x[1].value)"
   ]
  },
  {
   "cell_type": "code",
   "execution_count": null,
   "id": "7e53944b-a481-4d41-b8ba-f9a5e298b231",
   "metadata": {},
   "outputs": [],
   "source": []
  }
 ],
 "metadata": {
  "kernelspec": {
   "display_name": "Python 3 (ipykernel)",
   "language": "python",
   "name": "python3"
  },
  "language_info": {
   "codemirror_mode": {
    "name": "ipython",
    "version": 3
   },
   "file_extension": ".py",
   "mimetype": "text/x-python",
   "name": "python",
   "nbconvert_exporter": "python",
   "pygments_lexer": "ipython3",
   "version": "3.11.5"
  }
 },
 "nbformat": 4,
 "nbformat_minor": 5
}
